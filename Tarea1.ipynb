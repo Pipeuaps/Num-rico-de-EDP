{
 "cells": [
  {
   "cell_type": "code",
   "execution_count": 1,
   "metadata": {},
   "outputs": [],
   "source": [
    "#librerias\n",
    "import numpy as np\n",
    "from matplotlib import pyplot as plt\n",
    "from scipy.linalg import cholesky"
   ]
  },
  {
   "cell_type": "code",
   "execution_count": 2,
   "metadata": {},
   "outputs": [],
   "source": [
    "#Integración numerica\n",
    "def n_integral(f,n,a,b):\n",
    "    valor=(f(a)+f(b))/2\n",
    "    for k in range (1,n):\n",
    "        valor=valor + f(a+k*(b-a)/n)\n",
    "    valor=valor*(b-a)/n\n",
    "    return valor"
   ]
  },
  {
   "cell_type": "markdown",
   "metadata": {},
   "source": [
    "Problema 1: "
   ]
  },
  {
   "cell_type": "markdown",
   "metadata": {},
   "source": [
    "(1) Implementación"
   ]
  },
  {
   "cell_type": "markdown",
   "metadata": {},
   "source": [
    "a)"
   ]
  },
  {
   "cell_type": "code",
   "execution_count": 3,
   "metadata": {},
   "outputs": [],
   "source": [
    "n=100 #numero de discreticazión (modificable)\n",
    "a=0 #Inicio del dominio (modificable)\n",
    "b=1 # final del dominio (modificable)\n",
    "def f(x): \n",
    "    #Función del problema (modificable)\n",
    "    return -x**2+x+2"
   ]
  },
  {
   "cell_type": "code",
   "execution_count": 4,
   "metadata": {},
   "outputs": [],
   "source": [
    "#Posición especifica de la discretización\n",
    "def xi(i):\n",
    "    return a+i*(b-a)/n"
   ]
  },
  {
   "cell_type": "code",
   "execution_count": 5,
   "metadata": {},
   "outputs": [],
   "source": [
    "#funciones phi\n",
    "def phi(x):\n",
    "    if x>= xi(i-1) and x<= xi(i):\n",
    "        return (x-xi(i-1))/(xi(i)-xi(i-1))\n",
    "    if x>=xi(i) and x<=xi(i+1):\n",
    "        return (xi(i+1)-x)/(xi(i+1)-xi(i))\n",
    "    else:\n",
    "        return 0\n",
    "    \n",
    "def derivada_phi(x):\n",
    "    if x>= xi(i-1) and x<= xi(i):\n",
    "        return 1/(xi(i)-xi(i-1))\n",
    "    if x>=xi(i) and x<=xi(i+1):\n",
    "        return -1/(xi(i+1)-xi(i))\n",
    "    else:\n",
    "        return 0\n",
    "\n",
    "def phi_anterior(x):\n",
    "    if x>= xi(i-2) and x<= xi(i-1):\n",
    "        return (x-xi(i-2))/(xi(i-1)-xi(i-2))\n",
    "    if x>=xi(i-1) and x<=xi(i):\n",
    "        return (xi(i)-x)/(xi(i)-xi(i-1))\n",
    "    else:\n",
    "        return 0\n",
    "    \n",
    "def derivada_phi_anterior(x):\n",
    "    if x>= xi(i-2) and x<= xi(i-1):\n",
    "        return 1/(xi(i-1)-xi(i-2))\n",
    "    if x>=xi(i-1) and x<=xi(i):\n",
    "        return -1/(xi(i)-xi(i-1))\n",
    "    else:\n",
    "        return 0\n",
    "\n",
    "def phi_superior(x):\n",
    "    if x>= xi(i) and x<= xi(i+1):\n",
    "        return (x-xi(i))/(xi(i+1)-xi(i))\n",
    "    if x>=xi(i+1) and x<=xi(i+2):\n",
    "        return (xi(i+2)-x)/(xi(i+2)-xi(i+1))\n",
    "    else:\n",
    "        return 0\n",
    "    \n",
    "def derivada_phi_superior(x):\n",
    "    if x>= xi(i) and x<= xi(i+1):\n",
    "        return 1/(xi(i+1)-xi(i))\n",
    "    if x>=xi(i+1) and x<=xi(i+2):\n",
    "        return -1/(xi(i+2)-xi(i+1))\n",
    "    else:\n",
    "        return 0\n",
    "\n",
    "def ai(x):\n",
    "    return derivada_phi(x)**2+phi(x)**2\n",
    "def bi(x):\n",
    "    return derivada_phi(x)*derivada_phi_anterior(x)+phi(x)*phi_anterior(x)\n",
    "def bi_superior(x):\n",
    "    return derivada_phi(x)*derivada_phi_superior(x)+phi(x)*phi_superior(x)\n",
    "def fi(x):\n",
    "    return f(x)*phi(x)"
   ]
  },
  {
   "cell_type": "code",
   "execution_count": 6,
   "metadata": {
    "scrolled": true
   },
   "outputs": [],
   "source": [
    "M=np.zeros((n-1,n-1)) #Matriz en los que pondremos los valores de nuestro sistema\n",
    "F=np.zeros((n-1,1)) #Vector de valore de f_i\n",
    "for i in range(1,n):\n",
    "    F[i-1,0]=n_integral(fi,1000,a,b)\n",
    "    M[i-1,i-1]=n_integral(ai,1000,a,b)\n",
    "    if i!=1:\n",
    "        M[i-1,i-2]=n_integral(bi,1000,a,b)\n",
    "    if i!= n-1:\n",
    "        M[i-1,i]=n_integral(bi_superior,1000,a,b)"
   ]
  },
  {
   "cell_type": "code",
   "execution_count": 7,
   "metadata": {},
   "outputs": [
    {
     "data": {
      "text/plain": [
       "array([[0.02009883],\n",
       "       [0.02019583],\n",
       "       [0.02029084],\n",
       "       [0.02038384],\n",
       "       [0.02047484],\n",
       "       [0.02056383],\n",
       "       [0.02065084],\n",
       "       [0.02073583],\n",
       "       [0.02081884],\n",
       "       [0.02089984],\n",
       "       [0.02097883],\n",
       "       [0.02105584],\n",
       "       [0.02113084],\n",
       "       [0.02120384],\n",
       "       [0.02127483],\n",
       "       [0.02134383],\n",
       "       [0.02141084],\n",
       "       [0.02147583],\n",
       "       [0.02153883],\n",
       "       [0.02159984],\n",
       "       [0.02165884],\n",
       "       [0.02171583],\n",
       "       [0.02177084],\n",
       "       [0.02182383],\n",
       "       [0.02187483],\n",
       "       [0.02192383],\n",
       "       [0.02197084],\n",
       "       [0.02201584],\n",
       "       [0.02205883],\n",
       "       [0.02209983],\n",
       "       [0.02213883],\n",
       "       [0.02217584],\n",
       "       [0.02221083],\n",
       "       [0.02224384],\n",
       "       [0.02227483],\n",
       "       [0.02230384],\n",
       "       [0.02233084],\n",
       "       [0.02235583],\n",
       "       [0.02237884],\n",
       "       [0.02239983],\n",
       "       [0.02241884],\n",
       "       [0.02243583],\n",
       "       [0.02245084],\n",
       "       [0.02246383],\n",
       "       [0.02247484],\n",
       "       [0.02248383],\n",
       "       [0.02249084],\n",
       "       [0.02249583],\n",
       "       [0.02249883],\n",
       "       [0.02249983],\n",
       "       [0.02249883],\n",
       "       [0.02249583],\n",
       "       [0.02249084],\n",
       "       [0.02248384],\n",
       "       [0.02247484],\n",
       "       [0.02246384],\n",
       "       [0.02245083],\n",
       "       [0.02243583],\n",
       "       [0.02241883],\n",
       "       [0.02239984],\n",
       "       [0.02237883],\n",
       "       [0.02235583],\n",
       "       [0.02233084],\n",
       "       [0.02230384],\n",
       "       [0.02227483],\n",
       "       [0.02224383],\n",
       "       [0.02221083],\n",
       "       [0.02217583],\n",
       "       [0.02213884],\n",
       "       [0.02209983],\n",
       "       [0.02205884],\n",
       "       [0.02201584],\n",
       "       [0.02197084],\n",
       "       [0.02192383],\n",
       "       [0.02187484],\n",
       "       [0.02182384],\n",
       "       [0.02177083],\n",
       "       [0.02171583],\n",
       "       [0.02165884],\n",
       "       [0.02159984],\n",
       "       [0.02153884],\n",
       "       [0.02147583],\n",
       "       [0.02141083],\n",
       "       [0.02134384],\n",
       "       [0.02127483],\n",
       "       [0.02120383],\n",
       "       [0.02113083],\n",
       "       [0.02105584],\n",
       "       [0.02097883],\n",
       "       [0.02089983],\n",
       "       [0.02081884],\n",
       "       [0.02073584],\n",
       "       [0.02065083],\n",
       "       [0.02056384],\n",
       "       [0.02047484],\n",
       "       [0.02038384],\n",
       "       [0.02029084],\n",
       "       [0.02019583],\n",
       "       [0.02009884]])"
      ]
     },
     "execution_count": 7,
     "metadata": {},
     "output_type": "execute_result"
    }
   ],
   "source": [
    "F"
   ]
  },
  {
   "cell_type": "code",
   "execution_count": 8,
   "metadata": {},
   "outputs": [
    {
     "data": {
      "text/plain": [
       "array([[205.0067 , -89.99835,   0.     , ...,   0.     ,   0.     ,\n",
       "          0.     ],\n",
       "       [-89.99835, 210.0067 , -89.99835, ...,   0.     ,   0.     ,\n",
       "          0.     ],\n",
       "       [  0.     , -89.99835, 210.0067 , ...,   0.     ,   0.     ,\n",
       "          0.     ],\n",
       "       ...,\n",
       "       [  0.     ,   0.     ,   0.     , ..., 210.0067 , -89.99835,\n",
       "          0.     ],\n",
       "       [  0.     ,   0.     ,   0.     , ..., -89.99835, 210.0067 ,\n",
       "        -89.99835],\n",
       "       [  0.     ,   0.     ,   0.     , ...,   0.     , -89.99835,\n",
       "        205.0067 ]])"
      ]
     },
     "execution_count": 8,
     "metadata": {},
     "output_type": "execute_result"
    }
   ],
   "source": [
    "M"
   ]
  },
  {
   "cell_type": "code",
   "execution_count": 9,
   "metadata": {},
   "outputs": [],
   "source": [
    "#Método de Cholesky\n",
    "L=np.zeros((n-1,n-1)) #Matriz en los que pondremos los valores de nuestro sistema\n",
    "L[0,0]=M[0,0]**(1/2)\n",
    "suma=0\n",
    "suma_diag=0\n",
    "for i in range(1,n-1):\n",
    "    for j in range (0,i):\n",
    "        suma_diag=suma_diag +L[i,j]**2\n",
    "        for k in range (0,j):\n",
    "            suma=suma +L[i,k]*L[j,k]\n",
    "        L[i,j]=(M[i,j]-suma)/L[j,j]\n",
    "        suma=0\n",
    "    L[i,i]=(M[i,i]-suma_diag)**(1/2)\n",
    "    suma_diag=0    "
   ]
  },
  {
   "cell_type": "code",
   "execution_count": 10,
   "metadata": {},
   "outputs": [
    {
     "data": {
      "text/plain": [
       "array([[14.31805504,  0.        ,  0.        , ...,  0.        ,\n",
       "         0.        ,  0.        ],\n",
       "       [-6.2856547 , 14.49160792,  0.        , ...,  0.        ,\n",
       "         0.        ,  0.        ],\n",
       "       [ 0.        , -6.2103771 , 14.49160792, ...,  0.        ,\n",
       "         0.        ,  0.        ],\n",
       "       ...,\n",
       "       [ 0.        ,  0.        ,  0.        , ..., 14.49160792,\n",
       "         0.        ,  0.        ],\n",
       "       [ 0.        ,  0.        ,  0.        , ..., -6.2103771 ,\n",
       "        14.49160792,  0.        ],\n",
       "       [ 0.        ,  0.        ,  0.        , ...,  0.        ,\n",
       "        -6.2103771 , 14.31805504]])"
      ]
     },
     "execution_count": 10,
     "metadata": {},
     "output_type": "execute_result"
    }
   ],
   "source": [
    "L"
   ]
  },
  {
   "cell_type": "code",
   "execution_count": 11,
   "metadata": {},
   "outputs": [],
   "source": [
    "#Resolveremos ahora Ly=F\n",
    "y=np.zeros((n-1,1))\n",
    "y[0,0]=F[0,0]/L[0,0]\n",
    "suma=0\n",
    "for i in range(1,n-1):\n",
    "    for j in range(0,i):\n",
    "        suma=suma+L[i,j]*y[j,0]\n",
    "    y[i,0]=(F[i,0]-suma)/L[i,i]\n",
    "    suma=0\n"
   ]
  },
  {
   "cell_type": "code",
   "execution_count": 12,
   "metadata": {},
   "outputs": [
    {
     "data": {
      "text/plain": [
       "array([[0.00140374],\n",
       "       [0.00200249],\n",
       "       [0.00225834],\n",
       "       [0.00237441],\n",
       "       [0.00243043],\n",
       "       [0.00246058],\n",
       "       [0.0024795 ],\n",
       "       [0.00249348],\n",
       "       [0.00250519],\n",
       "       [0.0025158 ],\n",
       "       [0.0025258 ],\n",
       "       [0.0025354 ],\n",
       "       [0.00254469],\n",
       "       [0.00255371],\n",
       "       [0.00256247],\n",
       "       [0.00257099],\n",
       "       [0.00257926],\n",
       "       [0.00258729],\n",
       "       [0.00259508],\n",
       "       [0.00260263],\n",
       "       [0.00260993],\n",
       "       [0.002617  ],\n",
       "       [0.00262382],\n",
       "       [0.0026304 ],\n",
       "       [0.00263674],\n",
       "       [0.00264284],\n",
       "       [0.0026487 ],\n",
       "       [0.00265431],\n",
       "       [0.00265968],\n",
       "       [0.00266482],\n",
       "       [0.00266971],\n",
       "       [0.00267436],\n",
       "       [0.00267876],\n",
       "       [0.00268293],\n",
       "       [0.00268685],\n",
       "       [0.00269054],\n",
       "       [0.00269398],\n",
       "       [0.00269718],\n",
       "       [0.00270014],\n",
       "       [0.00270285],\n",
       "       [0.00270533],\n",
       "       [0.00270756],\n",
       "       [0.00270956],\n",
       "       [0.00271131],\n",
       "       [0.00271282],\n",
       "       [0.00271408],\n",
       "       [0.00271511],\n",
       "       [0.0027159 ],\n",
       "       [0.00271644],\n",
       "       [0.00271674],\n",
       "       [0.0027168 ],\n",
       "       [0.00271662],\n",
       "       [0.0027162 ],\n",
       "       [0.00271553],\n",
       "       [0.00271463],\n",
       "       [0.00271348],\n",
       "       [0.00271209],\n",
       "       [0.00271046],\n",
       "       [0.00270859],\n",
       "       [0.00270648],\n",
       "       [0.00270412],\n",
       "       [0.00270153],\n",
       "       [0.00269869],\n",
       "       [0.00269561],\n",
       "       [0.00269229],\n",
       "       [0.00268873],\n",
       "       [0.00268492],\n",
       "       [0.00268088],\n",
       "       [0.00267659],\n",
       "       [0.00267206],\n",
       "       [0.00266729],\n",
       "       [0.00266228],\n",
       "       [0.00265703],\n",
       "       [0.00265153],\n",
       "       [0.0026458 ],\n",
       "       [0.00263982],\n",
       "       [0.0026336 ],\n",
       "       [0.00262714],\n",
       "       [0.00262044],\n",
       "       [0.0026135 ],\n",
       "       [0.00260631],\n",
       "       [0.00259888],\n",
       "       [0.00259122],\n",
       "       [0.00258331],\n",
       "       [0.00257516],\n",
       "       [0.00256676],\n",
       "       [0.00255813],\n",
       "       [0.00254925],\n",
       "       [0.00254014],\n",
       "       [0.00253078],\n",
       "       [0.00252118],\n",
       "       [0.00251134],\n",
       "       [0.00250125],\n",
       "       [0.00249093],\n",
       "       [0.00248036],\n",
       "       [0.00246955],\n",
       "       [0.00245851],\n",
       "       [0.00244722],\n",
       "       [0.00246521]])"
      ]
     },
     "execution_count": 12,
     "metadata": {},
     "output_type": "execute_result"
    }
   ],
   "source": [
    "y"
   ]
  },
  {
   "cell_type": "code",
   "execution_count": 13,
   "metadata": {},
   "outputs": [],
   "source": [
    "#Resolveremos ahora  L^{T}x=y\n",
    "LT=np.transpose(L)\n",
    "x=np.zeros((n-1,1))\n",
    "x[n-2,0]=F[n-2,0]/LT[n-2,n-2]\n",
    "suma=0\n",
    "for i in reversed(range(0,n-2)):\n",
    "    for j in reversed(range(i+1,n-1)):\n",
    "        suma=suma+LT[i,j]*x[j,0]\n",
    "    x[i,0]=(F[i,0]-suma)/L[i,i]\n",
    "    suma=0"
   ]
  },
  {
   "cell_type": "code",
   "execution_count": 14,
   "metadata": {
    "scrolled": true
   },
   "outputs": [
    {
     "data": {
      "text/plain": [
       "array([[0.00247807],\n",
       "       [0.00244722],\n",
       "       [0.00245851],\n",
       "       [0.00246955],\n",
       "       [0.00248036],\n",
       "       [0.00249093],\n",
       "       [0.00250125],\n",
       "       [0.00251134],\n",
       "       [0.00252118],\n",
       "       [0.00253078],\n",
       "       [0.00254014],\n",
       "       [0.00254925],\n",
       "       [0.00255813],\n",
       "       [0.00256676],\n",
       "       [0.00257516],\n",
       "       [0.00258331],\n",
       "       [0.00259122],\n",
       "       [0.00259888],\n",
       "       [0.00260631],\n",
       "       [0.0026135 ],\n",
       "       [0.00262044],\n",
       "       [0.00262714],\n",
       "       [0.0026336 ],\n",
       "       [0.00263982],\n",
       "       [0.0026458 ],\n",
       "       [0.00265153],\n",
       "       [0.00265703],\n",
       "       [0.00266228],\n",
       "       [0.00266729],\n",
       "       [0.00267206],\n",
       "       [0.00267659],\n",
       "       [0.00268088],\n",
       "       [0.00268492],\n",
       "       [0.00268873],\n",
       "       [0.00269229],\n",
       "       [0.00269561],\n",
       "       [0.00269869],\n",
       "       [0.00270153],\n",
       "       [0.00270412],\n",
       "       [0.00270648],\n",
       "       [0.00270859],\n",
       "       [0.00271046],\n",
       "       [0.00271209],\n",
       "       [0.00271348],\n",
       "       [0.00271463],\n",
       "       [0.00271553],\n",
       "       [0.0027162 ],\n",
       "       [0.00271662],\n",
       "       [0.0027168 ],\n",
       "       [0.00271674],\n",
       "       [0.00271644],\n",
       "       [0.0027159 ],\n",
       "       [0.00271511],\n",
       "       [0.00271408],\n",
       "       [0.00271282],\n",
       "       [0.00271131],\n",
       "       [0.00270956],\n",
       "       [0.00270756],\n",
       "       [0.00270533],\n",
       "       [0.00270285],\n",
       "       [0.00270014],\n",
       "       [0.00269718],\n",
       "       [0.00269398],\n",
       "       [0.00269054],\n",
       "       [0.00268685],\n",
       "       [0.00268293],\n",
       "       [0.00267876],\n",
       "       [0.00267436],\n",
       "       [0.00266971],\n",
       "       [0.00266482],\n",
       "       [0.00265968],\n",
       "       [0.00265431],\n",
       "       [0.0026487 ],\n",
       "       [0.00264284],\n",
       "       [0.00263674],\n",
       "       [0.0026304 ],\n",
       "       [0.00262382],\n",
       "       [0.002617  ],\n",
       "       [0.00260993],\n",
       "       [0.00260263],\n",
       "       [0.00259508],\n",
       "       [0.00258729],\n",
       "       [0.00257926],\n",
       "       [0.00257099],\n",
       "       [0.00256247],\n",
       "       [0.00255371],\n",
       "       [0.00254469],\n",
       "       [0.0025354 ],\n",
       "       [0.0025258 ],\n",
       "       [0.00251579],\n",
       "       [0.00250517],\n",
       "       [0.00249343],\n",
       "       [0.00247939],\n",
       "       [0.00246033],\n",
       "       [0.00242985],\n",
       "       [0.00237307],\n",
       "       [0.00225522],\n",
       "       [0.0019952 ],\n",
       "       [0.00140374]])"
      ]
     },
     "execution_count": 14,
     "metadata": {},
     "output_type": "execute_result"
    }
   ],
   "source": [
    "x"
   ]
  },
  {
   "cell_type": "code",
   "execution_count": 15,
   "metadata": {},
   "outputs": [
    {
     "data": {
      "image/png": "[encoded data removed]",
      "text/plain": [
       "<Figure size 432x288 with 1 Axes>"
      ]
     },
     "metadata": {
      "needs_background": "light"
     },
     "output_type": "display_data"
    }
   ],
   "source": [
    "X = np.linspace(a, b, n-1)\n",
    "plt.plot(X,x, color=\"red\")\n",
    "plt.show()"
   ]
  },
  {
   "cell_type": "code",
   "execution_count": null,
   "metadata": {},
   "outputs": [],
   "source": []
  },
  {
   "cell_type": "code",
   "execution_count": null,
   "metadata": {},
   "outputs": [],
   "source": []
  }
 ],
 "metadata": {
  "kernelspec": {
   "display_name": "Python 3",
   "language": "python",
   "name": "python3"
  },
  "language_info": {
   "codemirror_mode": {
    "name": "ipython",
    "version": 3
   },
   "file_extension": ".py",
   "mimetype": "text/x-python",
   "name": "python",
   "nbconvert_exporter": "python",
   "pygments_lexer": "ipython3",
   "version": "3.8.3"
  }
 },
 "nbformat": 4,
 "nbformat_minor": 4
}
