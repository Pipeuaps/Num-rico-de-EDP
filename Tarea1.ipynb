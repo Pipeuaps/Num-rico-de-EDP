{
 "cells": [
  {
   "cell_type": "code",
   "execution_count": 33,
   "metadata": {},
   "outputs": [],
   "source": [
    "#librerias\n",
    "import numpy as np"
   ]
  },
  {
   "cell_type": "code",
   "execution_count": 34,
   "metadata": {},
   "outputs": [],
   "source": [
    "#Integración numerica\n",
    "def n_integral(f,n,a,b):\n",
    "    valor=0\n",
    "    for k in range (1,n):\n",
    "        valor=valor + f(a+k*(b-a)/n)\n",
    "    valor=valor+(f(a)+f(b))/2\n",
    "    valor=valor*(b-a)/n\n",
    "    return valor"
   ]
  },
  {
   "cell_type": "markdown",
   "metadata": {},
   "source": [
    "Problema 1: "
   ]
  },
  {
   "cell_type": "markdown",
   "metadata": {},
   "source": [
    "(1) Implementación"
   ]
  },
  {
   "cell_type": "markdown",
   "metadata": {},
   "source": [
    "a)"
   ]
  },
  {
   "cell_type": "code",
   "execution_count": 35,
   "metadata": {},
   "outputs": [],
   "source": [
    "n=10 #numero de discreticazión (modificable)\n",
    "a=0 #Inicio del dominio (modificable)\n",
    "b=1 # final del dominio (modificable)\n",
    "def f(x): \n",
    "    #Función del problema (modificable)\n",
    "    return 3*x**2"
   ]
  },
  {
   "cell_type": "code",
   "execution_count": 36,
   "metadata": {},
   "outputs": [],
   "source": [
    "def xi(i):\n",
    "    return a+i*(b-a)/n"
   ]
  },
  {
   "cell_type": "code",
   "execution_count": 37,
   "metadata": {},
   "outputs": [],
   "source": [
    "def phi(x):\n",
    "    if x>= xi(i-1) and x<= xi(i):\n",
    "        return (x-xi(i-1))/(xi(i)-xi(i-1))\n",
    "    if x>=xi(i) and x>=xi(i+1):\n",
    "        return (xi(i+1)-x)/(xi(i+1)-xi(i))\n",
    "    else:\n",
    "        return 0\n",
    "    \n",
    "def derivada_phi(x):\n",
    "    if x>= xi(i-1) and x<= xi(i):\n",
    "        return 1/(xi(i)-xi(i-1))\n",
    "    if x>=xi(i) and x>=xi(i+1):\n",
    "        return -1/(xi(i+1)-xi(i))\n",
    "    else:\n",
    "        return 0\n",
    "\n",
    "def phi_anterior(x):\n",
    "    if x>= xi(i-2) and x<= xi(i-1):\n",
    "        return (x-xi(i-2))/(xi(i-1)-xi(i-2))\n",
    "    if x>=xi(i-1) and x>=xi(i):\n",
    "        return (xi(i)-x)/(xi(i)-xi(i-1))\n",
    "    else:\n",
    "        return 0\n",
    "    \n",
    "def derivada_phi_anterior(x):\n",
    "    if x>= xi(i-2) and x<= xi(i-1):\n",
    "        return 1/(xi(i-1)-xi(i-2))\n",
    "    if x>=xi(i-1) and x>=xi(i):\n",
    "        return -1/(xi(i)-xi(i-1))\n",
    "    else:\n",
    "        return 0\n",
    "\n",
    "def phi_superior(x):\n",
    "    if x>= xi(i) and x<= xi(i+1):\n",
    "        return (x-xi(i))/(xi(i+1)-xi(i))\n",
    "    if x>=xi(i+1) and x>=xi(i+2):\n",
    "        return (xi(i+2)-x)/(xi(i+2)-xi(i+1))\n",
    "    else:\n",
    "        return 0\n",
    "    \n",
    "def derivada_phi_superior(x):\n",
    "    if x>= xi(i) and x<= xi(i+1):\n",
    "        return 1/(xi(i+1)-xi(i))\n",
    "    if x>=xi(i+1) and x>=xi(i+2):\n",
    "        return -1/(xi(i+2)-xi(i+1))\n",
    "    else:\n",
    "        return 0\n",
    "\n",
    "def ai(x):\n",
    "    return derivada_phi(x)**2+phi(x)**2\n",
    "def bi(x):\n",
    "    return derivada_phi(x)*derivada_phi_anterior(x)+phi(x)*phi_anterior(x)\n",
    "def bi_superior(x):\n",
    "    return derivada_phi(x)*derivada_phi_superior(x)+phi(x)*phi_superior(x)\n",
    "def fi(x):\n",
    "    return f(x)*phi(x)"
   ]
  },
  {
   "cell_type": "code",
   "execution_count": 38,
   "metadata": {
    "scrolled": true
   },
   "outputs": [],
   "source": [
    "M=np.zeros((n-1,n-1)) #Matriz en los que pondremos los valores de nuestro sistema\n",
    "F=np.zeros((n-1,1)) #Vector de valore de f_i\n",
    "for i in range(1,n):\n",
    "    F[i-1,0]=n_integral(fi,20,xi(i-1),xi(i+1))\n",
    "    M[i-1,i-1]=n_integral(ai,20,xi(i-1),xi(i+1))\n",
    "    if i!=1:\n",
    "        M[i-1,i-2]=n_integral(bi,20,xi(i-1),xi(i))\n",
    "    if i!= n-1:\n",
    "        M[i-1,i]=n_integral(bi_superior,20,xi(i),xi(i+1))\n"
   ]
  },
  {
   "cell_type": "code",
   "execution_count": 39,
   "metadata": {},
   "outputs": [
    {
     "data": {
      "text/plain": [
       "array([[0.0009075],\n",
       "       [0.0048675],\n",
       "       [0.0094275],\n",
       "       [0.0226875],\n",
       "       [0.0365475],\n",
       "       [0.0537075],\n",
       "       [0.0594675],\n",
       "       [0.0979275],\n",
       "       [0.1249875]])"
      ]
     },
     "execution_count": 39,
     "metadata": {},
     "output_type": "execute_result"
    }
   ],
   "source": [
    "F"
   ]
  },
  {
   "cell_type": "code",
   "execution_count": 40,
   "metadata": {
    "scrolled": true
   },
   "outputs": [
    {
     "name": "stdout",
     "output_type": "stream",
     "text": [
      "i\n",
      "1\n",
      "j\n",
      "0\n",
      "i\n",
      "2\n",
      "j\n",
      "0\n",
      "1\n",
      "i\n",
      "3\n",
      "j\n",
      "0\n",
      "1\n",
      "2\n",
      "i\n",
      "4\n",
      "j\n",
      "0\n",
      "1\n",
      "2\n",
      "3\n",
      "i\n",
      "5\n",
      "j\n",
      "0\n",
      "1\n",
      "2\n",
      "3\n",
      "4\n",
      "i\n",
      "6\n",
      "j\n",
      "0\n",
      "1\n",
      "2\n",
      "3\n",
      "4\n",
      "5\n",
      "i\n",
      "7\n",
      "j\n",
      "0\n",
      "1\n",
      "2\n",
      "3\n",
      "4\n",
      "5\n",
      "6\n",
      "i\n",
      "8\n",
      "j\n",
      "0\n",
      "1\n",
      "2\n",
      "3\n",
      "4\n",
      "5\n",
      "6\n",
      "7\n"
     ]
    }
   ],
   "source": [
    "#Método de Cholesky\n",
    "L=np.zeros((n-1,n-1)) #Matriz en los que pondremos los valores de nuestro sistema\n",
    "L[0,0]=M[0,0]**(1/2)\n",
    "suma=0\n",
    "suma_diag=0\n",
    "for i in range(1,n-1):\n",
    "    for j in range (0,i):\n",
    "        suma_diag=suma_diag +L[i,j]**2\n",
    "        for k in range (0,j):\n",
    "            suma=suma +L[i,k]*L[j,k]\n",
    "        L[i,j]=(M[i,j]-suma)/L[j,j]\n",
    "        suma=0\n",
    "    L[i,i]=(M[i,i]-suma_diag)**(1/2)\n",
    "    suma_diag=0    "
   ]
  },
  {
   "cell_type": "code",
   "execution_count": 41,
   "metadata": {},
   "outputs": [
    {
     "data": {
      "text/plain": [
       "array([[ 3.32242381e+00,  0.00000000e+00,  0.00000000e+00,\n",
       "         0.00000000e+00,  0.00000000e+00,  0.00000000e+00,\n",
       "         0.00000000e+00,  0.00000000e+00,  0.00000000e+00],\n",
       "       [ 0.00000000e+00,  3.32242381e+00,  0.00000000e+00,\n",
       "         0.00000000e+00,  0.00000000e+00,  0.00000000e+00,\n",
       "         0.00000000e+00,  0.00000000e+00,  0.00000000e+00],\n",
       "       [ 0.00000000e+00, -2.13862763e-17,  3.16678070e+00,\n",
       "         0.00000000e+00,  0.00000000e+00,  0.00000000e+00,\n",
       "         0.00000000e+00,  0.00000000e+00,  0.00000000e+00],\n",
       "       [ 0.00000000e+00,  0.00000000e+00,  4.48747674e-17,\n",
       "         3.32242381e+00,  0.00000000e+00,  0.00000000e+00,\n",
       "         0.00000000e+00,  0.00000000e+00,  0.00000000e+00],\n",
       "       [ 0.00000000e+00,  0.00000000e+00,  0.00000000e+00,\n",
       "        -4.27725525e-17,  3.32242381e+00,  0.00000000e+00,\n",
       "         0.00000000e+00,  0.00000000e+00,  0.00000000e+00],\n",
       "       [ 0.00000000e+00,  0.00000000e+00,  0.00000000e+00,\n",
       "         0.00000000e+00,  0.00000000e+00,  3.32242381e+00,\n",
       "         0.00000000e+00,  0.00000000e+00,  0.00000000e+00],\n",
       "       [ 0.00000000e+00,  0.00000000e+00,  0.00000000e+00,\n",
       "         0.00000000e+00,  0.00000000e+00,  0.00000000e+00,\n",
       "         3.16678070e+00,  0.00000000e+00,  0.00000000e+00],\n",
       "       [ 0.00000000e+00,  0.00000000e+00,  0.00000000e+00,\n",
       "         0.00000000e+00,  0.00000000e+00,  0.00000000e+00,\n",
       "         7.85308429e-17,  3.32242381e+00,  0.00000000e+00],\n",
       "       [ 0.00000000e+00,  0.00000000e+00,  0.00000000e+00,\n",
       "         0.00000000e+00,  0.00000000e+00,  0.00000000e+00,\n",
       "         0.00000000e+00, -8.55451051e-17,  3.32242381e+00]])"
      ]
     },
     "execution_count": 41,
     "metadata": {},
     "output_type": "execute_result"
    }
   ],
   "source": [
    "L"
   ]
  },
  {
   "cell_type": "code",
   "execution_count": 43,
   "metadata": {},
   "outputs": [],
   "source": [
    "#Resolveremos ahora Ly=F\n",
    "y=np.zeros((n-1,1))\n",
    "y[0,0]=F[0,0]/L[0,0]\n",
    "suma=0\n",
    "for i in range(1,n-1):\n",
    "    for j in range(0,i):\n",
    "        suma=suma+L[i,j]*y[j,0]\n",
    "    y[i,0]=(F[i,0]-suma)/L[i,i]\n",
    "    suma=0\n"
   ]
  },
  {
   "cell_type": "code",
   "execution_count": 44,
   "metadata": {},
   "outputs": [
    {
     "data": {
      "text/plain": [
       "array([[0.00027314],\n",
       "       [0.00146504],\n",
       "       [0.002977  ],\n",
       "       [0.0068286 ],\n",
       "       [0.01100025],\n",
       "       [0.01616516],\n",
       "       [0.01877853],\n",
       "       [0.02947472],\n",
       "       [0.03761937]])"
      ]
     },
     "execution_count": 44,
     "metadata": {},
     "output_type": "execute_result"
    }
   ],
   "source": [
    "y"
   ]
  },
  {
   "cell_type": "code",
   "execution_count": 54,
   "metadata": {},
   "outputs": [],
   "source": [
    "#Resolveremos ahora  L^{T}x=y\n",
    "LT=np.transpose(L)\n",
    "x=np.zeros((n-1,1))\n",
    "x[n-2,0]=F[n-2,0]/L[n-2,n-2]\n",
    "suma=0\n",
    "for i in reversed(range(1,n-1)):\n",
    "    for j in reversed(range(i,n-1)):\n",
    "        suma=suma+L[i,j]*x[j,0]\n",
    "    x[i,0]=(F[i,0]-suma)/L[i,i]\n",
    "    suma=0"
   ]
  },
  {
   "cell_type": "code",
   "execution_count": 55,
   "metadata": {},
   "outputs": [
    {
     "data": {
      "text/plain": [
       "array([[ 0.00000000e+00],\n",
       "       [ 1.46504488e-03],\n",
       "       [ 2.97699806e-03],\n",
       "       [ 6.82859902e-03],\n",
       "       [ 1.10002522e-02],\n",
       "       [ 1.61651562e-02],\n",
       "       [ 1.87785343e-02],\n",
       "       [ 2.94747165e-02],\n",
       "       [-4.17700708e-18]])"
      ]
     },
     "execution_count": 55,
     "metadata": {},
     "output_type": "execute_result"
    }
   ],
   "source": [
    "x"
   ]
  },
  {
   "cell_type": "code",
   "execution_count": null,
   "metadata": {},
   "outputs": [],
   "source": []
  }
 ],
 "metadata": {
  "kernelspec": {
   "display_name": "Python 3",
   "language": "python",
   "name": "python3"
  },
  "language_info": {
   "codemirror_mode": {
    "name": "ipython",
    "version": 3
   },
   "file_extension": ".py",
   "mimetype": "text/x-python",
   "name": "python",
   "nbconvert_exporter": "python",
   "pygments_lexer": "ipython3",
   "version": "3.8.3"
  }
 },
 "nbformat": 4,
 "nbformat_minor": 4
}
