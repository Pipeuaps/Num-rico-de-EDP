{
 "cells": [
  {
   "cell_type": "code",
   "execution_count": 143,
   "metadata": {},
   "outputs": [],
   "source": [
    "#librerias\n",
    "import numpy as np"
   ]
  },
  {
   "cell_type": "code",
   "execution_count": 144,
   "metadata": {},
   "outputs": [],
   "source": [
    "#Integración numerica\n",
    "def n_integral(f,n,a,b):\n",
    "    valor=0\n",
    "    for k in range (1,n):\n",
    "        valor=valor + f(a+k*(b-a)/n)\n",
    "    valor=valor+(f(a)+f(b))/2\n",
    "    valor=valor*(b-a)/n\n",
    "    return valor"
   ]
  },
  {
   "cell_type": "markdown",
   "metadata": {},
   "source": [
    "Problema 1: "
   ]
  },
  {
   "cell_type": "markdown",
   "metadata": {},
   "source": [
    "(1) Implementación"
   ]
  },
  {
   "cell_type": "markdown",
   "metadata": {},
   "source": [
    "a)"
   ]
  },
  {
   "cell_type": "code",
   "execution_count": 145,
   "metadata": {},
   "outputs": [],
   "source": [
    "n=10 #numero de discreticazión (modificable)\n",
    "a=0 #Inicio del dominio (modificable)\n",
    "b=1 # final del dominio (modificable)\n",
    "def f(x): \n",
    "    #Función del problema (modificable)\n",
    "    return 3*x**2"
   ]
  },
  {
   "cell_type": "code",
   "execution_count": 146,
   "metadata": {},
   "outputs": [],
   "source": [
    "def xi(i):\n",
    "    return a+i*(b-a)/n"
   ]
  },
  {
   "cell_type": "code",
   "execution_count": 147,
   "metadata": {},
   "outputs": [],
   "source": [
    "def phi(x):\n",
    "    if x>= xi(i-1) and x<= xi(i):\n",
    "        return (x-xi(i-1))/(xi(i)-xi(i-1))\n",
    "    if x>=xi(i) and x>=xi(i+1):\n",
    "        return (xi(i+1)-x)/(xi(i+1)-xi(i))\n",
    "    else:\n",
    "        return 0\n",
    "    \n",
    "def derivada_phi(x):\n",
    "    if x>= xi(i-1) and x<= xi(i):\n",
    "        return 1/(xi(i)-xi(i-1))\n",
    "    if x>=xi(i) and x>=xi(i+1):\n",
    "        return -1/(xi(i+1)-xi(i))\n",
    "    else:\n",
    "        return 0\n",
    "\n",
    "def phi_anterior(x):\n",
    "    if x>= xi(i-2) and x<= xi(i-1):\n",
    "        return (x-xi(i-2))/(xi(i-1)-xi(i-2))\n",
    "    if x>=xi(i-1) and x>=xi(i):\n",
    "        return (xi(i)-x)/(xi(i)-xi(i-1))\n",
    "    else:\n",
    "        return 0\n",
    "    \n",
    "def derivada_phi_anterior(x):\n",
    "    if x>= xi(i-2) and x<= xi(i-1):\n",
    "        return 1/(xi(i-1)-xi(i-2))\n",
    "    if x>=xi(i-1) and x>=xi(i):\n",
    "        return -1/(xi(i)-xi(i-1))\n",
    "    else:\n",
    "        return 0\n",
    "\n",
    "def phi_superior(x):\n",
    "    if x>= xi(i) and x<= xi(i+1):\n",
    "        return (x-xi(i))/(xi(i+1)-xi(i))\n",
    "    if x>=xi(i+1) and x>=xi(i+2):\n",
    "        return (xi(i+2)-x)/(xi(i+2)-xi(i+1))\n",
    "    else:\n",
    "        return 0\n",
    "    \n",
    "def derivada_phi_superior(x):\n",
    "    if x>= xi(i) and x<= xi(i+1):\n",
    "        return 1/(xi(i+1)-xi(i))\n",
    "    if x>=xi(i+1) and x>=xi(i+2):\n",
    "        return -1/(xi(i+2)-xi(i+1))\n",
    "    else:\n",
    "        return 0\n",
    "\n",
    "def ai(x):\n",
    "    return derivada_phi(x)**2+phi(x)**2\n",
    "def bi(x):\n",
    "    return derivada_phi(x)*derivada_phi_anterior(x)+phi(x)*phi_anterior(x)\n",
    "def bi_superior(x):\n",
    "    return derivada_phi(x)*derivada_phi_superior(x)+phi(x)*phi_superior(x)\n",
    "def fi(x):\n",
    "    return f(x)*phi(x)"
   ]
  },
  {
   "cell_type": "code",
   "execution_count": 154,
   "metadata": {
    "scrolled": true
   },
   "outputs": [],
   "source": [
    "M=np.zeros((n-1,n-1)) #Matriz en los que pondremos los valores de nuestro sistema\n",
    "F=np.zeros((n-1,1)) #Vector de valore de f_i\n",
    "for i in range(1,n):\n",
    "    F[i-1,0]=n_integral(fi,20,xi(i-1),xi(i+1))\n",
    "    M[i-1,i-1]=n_integral(ai,20,xi(i-1),xi(i+1))\n",
    "    if i!=1:\n",
    "        M[i-1,i-2]=n_integral(bi,20,xi(i-1),xi(i))\n",
    "    if i!= n-1:\n",
    "        M[i-1,i]=n_integral(bi_superior,20,xi(i),xi(i+1))\n"
   ]
  },
  {
   "cell_type": "code",
   "execution_count": 155,
   "metadata": {},
   "outputs": [
    {
     "data": {
      "text/plain": [
       "array([[ 1.10385000e+01,  0.00000000e+00,  0.00000000e+00,\n",
       "         0.00000000e+00,  0.00000000e+00,  0.00000000e+00,\n",
       "         0.00000000e+00,  0.00000000e+00,  0.00000000e+00],\n",
       "       [ 0.00000000e+00,  1.10385000e+01, -7.10542736e-17,\n",
       "         0.00000000e+00,  0.00000000e+00,  0.00000000e+00,\n",
       "         0.00000000e+00,  0.00000000e+00,  0.00000000e+00],\n",
       "       [ 0.00000000e+00, -7.10542736e-17,  1.00285000e+01,\n",
       "         1.42108547e-16,  0.00000000e+00,  0.00000000e+00,\n",
       "         0.00000000e+00,  0.00000000e+00,  0.00000000e+00],\n",
       "       [ 0.00000000e+00,  0.00000000e+00,  1.42108547e-16,\n",
       "         1.10385000e+01, -1.42108547e-16,  0.00000000e+00,\n",
       "         0.00000000e+00,  0.00000000e+00,  0.00000000e+00],\n",
       "       [ 0.00000000e+00,  0.00000000e+00,  0.00000000e+00,\n",
       "        -1.42108547e-16,  1.10385000e+01,  0.00000000e+00,\n",
       "         0.00000000e+00,  0.00000000e+00,  0.00000000e+00],\n",
       "       [ 0.00000000e+00,  0.00000000e+00,  0.00000000e+00,\n",
       "         0.00000000e+00,  0.00000000e+00,  1.10385000e+01,\n",
       "         0.00000000e+00,  0.00000000e+00,  0.00000000e+00],\n",
       "       [ 0.00000000e+00,  0.00000000e+00,  0.00000000e+00,\n",
       "         0.00000000e+00,  0.00000000e+00,  0.00000000e+00,\n",
       "         1.00285000e+01,  2.48689958e-16,  0.00000000e+00],\n",
       "       [ 0.00000000e+00,  0.00000000e+00,  0.00000000e+00,\n",
       "         0.00000000e+00,  0.00000000e+00,  0.00000000e+00,\n",
       "         2.48689958e-16,  1.10385000e+01, -2.84217094e-16],\n",
       "       [ 0.00000000e+00,  0.00000000e+00,  0.00000000e+00,\n",
       "         0.00000000e+00,  0.00000000e+00,  0.00000000e+00,\n",
       "         0.00000000e+00, -2.84217094e-16,  1.10385000e+01]])"
      ]
     },
     "execution_count": 155,
     "metadata": {},
     "output_type": "execute_result"
    }
   ],
   "source": [
    "M"
   ]
  },
  {
   "cell_type": "code",
   "execution_count": 156,
   "metadata": {},
   "outputs": [
    {
     "data": {
      "text/plain": [
       "array([[0.0009075],\n",
       "       [0.0048675],\n",
       "       [0.0094275],\n",
       "       [0.0226875],\n",
       "       [0.0365475],\n",
       "       [0.0537075],\n",
       "       [0.0594675],\n",
       "       [0.0979275],\n",
       "       [0.1249875]])"
      ]
     },
     "execution_count": 156,
     "metadata": {},
     "output_type": "execute_result"
    }
   ],
   "source": [
    "F"
   ]
  }
 ],
 "metadata": {
  "kernelspec": {
   "display_name": "Python 3",
   "language": "python",
   "name": "python3"
  },
  "language_info": {
   "codemirror_mode": {
    "name": "ipython",
    "version": 3
   },
   "file_extension": ".py",
   "mimetype": "text/x-python",
   "name": "python",
   "nbconvert_exporter": "python",
   "pygments_lexer": "ipython3",
   "version": "3.8.3"
  }
 },
 "nbformat": 4,
 "nbformat_minor": 4
}
