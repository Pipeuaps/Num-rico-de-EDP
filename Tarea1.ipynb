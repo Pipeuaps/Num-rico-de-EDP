{
 "cells": [
  {
   "cell_type": "code",
   "execution_count": 25,
   "metadata": {},
   "outputs": [],
   "source": [
    "#librerias\n",
    "import numpy as np\n",
    "from matplotlib import pyplot as plt\n",
    "from scipy.linalg import cholesky"
   ]
  },
  {
   "cell_type": "code",
   "execution_count": 26,
   "metadata": {},
   "outputs": [],
   "source": [
    "#Integración numerica\n",
    "s=1000 #Partición integración (modificable)\n",
    "def n_integral(f,a,b,s=1000):\n",
    "    valor=(f[0]+f[s-1])/2\n",
    "    for k in range (1,s-1):\n",
    "        valor=valor + f[k]\n",
    "    valor=valor*(b-a)/s\n",
    "    return valor"
   ]
  },
  {
   "cell_type": "markdown",
   "metadata": {},
   "source": [
    "Problema 1: "
   ]
  },
  {
   "cell_type": "markdown",
   "metadata": {},
   "source": [
    "(1) Implementación"
   ]
  },
  {
   "cell_type": "markdown",
   "metadata": {},
   "source": [
    "a)"
   ]
  },
  {
   "cell_type": "code",
   "execution_count": 27,
   "metadata": {},
   "outputs": [],
   "source": [
    "n=100 #numero de discreticazión (modificable)\n",
    "a=0 #Inicio del dominio (modificable)\n",
    "b=1 # final del dominio (modificable)\n",
    "def f(x): \n",
    "    #Función del problema (modificable)\n",
    "    return -x**2+x+2"
   ]
  },
  {
   "cell_type": "code",
   "execution_count": 28,
   "metadata": {},
   "outputs": [],
   "source": [
    "#Posición especifica de la discretización\n",
    "def xi(i):\n",
    "    return a+i*(b-a)/n"
   ]
  },
  {
   "cell_type": "code",
   "execution_count": 29,
   "metadata": {},
   "outputs": [],
   "source": [
    "#funciones phi\n",
    "def phi(x,i):\n",
    "    if x>= xi(i-1) and x<= xi(i):\n",
    "        return (x-xi(i-1))/(xi(i)-xi(i-1))\n",
    "    if x>xi(i) and x<=xi(i+1):\n",
    "        return (xi(i+1)-x)/(xi(i+1)-xi(i))\n",
    "    else:\n",
    "        return 0\n",
    "#derivada de la funciones phi  \n",
    "def derivada_phi(x,i):\n",
    "    if x>= xi(i-1) and x<= xi(i):\n",
    "        return 1/(xi(i)-xi(i-1))\n",
    "    if x>xi(i) and x<=xi(i+1):\n",
    "        return -1/(xi(i+1)-xi(i))\n",
    "    else:\n",
    "        return 0\n",
    "#funciones phi como vector\n",
    "def phi_vec(i,s):\n",
    "    v=np.zeros((s,1))\n",
    "    for k in range(0,s):\n",
    "        v[k]=phi(a+k*(b-a)/(s-1),i)\n",
    "    return v\n",
    "#derivada de la funciones phi como vector\n",
    "def derivada_phi_vec(i,s):\n",
    "    v=np.zeros((s,1))\n",
    "    for k in range(0,s):\n",
    "        v[k]=derivada_phi(a+k*(b-a)/(s-1),i)\n",
    "    return v\n",
    "#vectoriación de funciones\n",
    "def f_vec(f,s):\n",
    "    v=np.zeros((s,1))\n",
    "    for k in range(0,s):\n",
    "        v[k]=f(a+k*(b-a)/(s-1))\n",
    "    return v\n",
    "#coeficiente ai    \n",
    "def ai(i):\n",
    "    v=np.zeros((s,1))\n",
    "    p1=phi_vec(i,s)\n",
    "    p2=derivada_phi_vec(i,s)\n",
    "    for k in range(0,s):\n",
    "        v[k]=p1[k]**2+p2[k]**2\n",
    "    return n_integral(v,a,b,s)\n",
    "#coeficiente bi \n",
    "def bi(i):\n",
    "    v=np.zeros((s,1))\n",
    "    p1=phi_vec(i-1,s)\n",
    "    p2=phi_vec(i,s)\n",
    "    p3=derivada_phi_vec(i-1,s)\n",
    "    p4=derivada_phi_vec(i,s)\n",
    "    for k in range(0,s):\n",
    "        v[k]=p1[k]*p2[k]+p3[k]*p4[k]\n",
    "    return n_integral(v,a,b,s)\n",
    "#coeficiente fi \n",
    "def fi(i):\n",
    "    v=f_vec(f,s)\n",
    "    p=phi_vec(i,s)\n",
    "    for k in range(0,s):\n",
    "        v[k]=p[k]*v[k]\n",
    "    return n_integral(v,a,b,s)"
   ]
  },
  {
   "cell_type": "code",
   "execution_count": 30,
   "metadata": {
    "scrolled": true
   },
   "outputs": [],
   "source": [
    "M=np.zeros((n-1,n-1)) #Matriz en los que pondremos los valores de nuestro sistema\n",
    "F=np.zeros((n-1,1)) #Vector de valore de f_i\n",
    "i=1\n",
    "for k in range(1,n):\n",
    "    F[k-1,0]=fi(k)\n",
    "    M[k-1,k-1]=ai(k)\n",
    "    if k!=1:\n",
    "        M[k-1,k-2]=bi(k)\n",
    "    if k!= n-1:\n",
    "        M[k-1,k]=bi(k+1)"
   ]
  },
  {
   "cell_type": "code",
   "execution_count": 31,
   "metadata": {},
   "outputs": [
    {
     "data": {
      "text/plain": [
       "array([[195.00669142, -99.99835022,   0.        , ...,   0.        ,\n",
       "          0.        ,   0.        ],\n",
       "       [-99.99835022, 200.00668947, -99.99834926, ...,   0.        ,\n",
       "          0.        ,   0.        ],\n",
       "       [  0.        , -99.99834926, 200.00668757, ...,   0.        ,\n",
       "          0.        ,   0.        ],\n",
       "       ...,\n",
       "       [  0.        ,   0.        ,   0.        , ..., 200.00668757,\n",
       "        -99.99834926,   0.        ],\n",
       "       [  0.        ,   0.        ,   0.        , ..., -99.99834926,\n",
       "        200.00668947, -99.99835022],\n",
       "       [  0.        ,   0.        ,   0.        , ...,   0.        ,\n",
       "        -99.99835022, 195.00669142]])"
      ]
     },
     "execution_count": 31,
     "metadata": {},
     "output_type": "execute_result"
    }
   ],
   "source": [
    "M"
   ]
  },
  {
   "cell_type": "code",
   "execution_count": 70,
   "metadata": {},
   "outputs": [],
   "source": [
    "#Método de Cholesky\n",
    "def cholesky(M):\n",
    "    L=np.zeros((n-1,n-1)) #Matriz en los que pondremos los valores de nuestro sistema\n",
    "    L[0,0]=M[0,0]**(1/2)\n",
    "    for j in range(1,n-1):\n",
    "        L[j,0]=M[0,j]/L[0,0]\n",
    "    L[1,1]=(M[1,1]-L[1,0]**2)**(1/2)\n",
    "    for j in range(1,n-1):\n",
    "        L[j,1]=(M[1,j]-L[1,0]*L[j,0])/L[1,1]\n",
    "    suma=0\n",
    "    suma_diag=0\n",
    "    for k in range(1,n-1):\n",
    "        for r in range (0,k):\n",
    "            suma=suma+ L[k,r]**2\n",
    "        L[k,k]=(M[k,k]-suma)**(1/2)\n",
    "        suma=0\n",
    "        for j in range(0,n-1):\n",
    "            for r in range (0,k):\n",
    "                suma=suma +L[k,r]*L[j,r]\n",
    "            L[j,k]=(M[k,j]-suma)/L[k,k]\n",
    "            suma=0   \n",
    "    #Resolveremos ahora Ly=F\n",
    "    y=np.zeros((n-1,1))\n",
    "    y[0,0]=F[0,0]/L[0,0]\n",
    "    suma=0\n",
    "    for i in range(1,n-1):\n",
    "        for j in range(0,i):\n",
    "            suma=suma+L[i,j]*y[j,0]\n",
    "        y[i,0]=(F[i,0]-suma)/L[i,i]\n",
    "        suma=0\n",
    "    #Resolveremos ahora  L^{T}x=y\n",
    "    LT=np.transpose(L)\n",
    "    X=np.zeros((n-1,1))\n",
    "    X[n-2,0]=F[n-2,0]/LT[n-2,n-2]\n",
    "    suma=0\n",
    "    for i in reversed(range(0,n-2)):\n",
    "        for j in reversed(range(i+1,n-1)):\n",
    "            suma=suma+LT[i,j]*X[j,0]\n",
    "        X[i,0]=(y[i,0]-suma)/L[i,i]\n",
    "        suma=0\n",
    "    return X"
   ]
  },
  {
   "cell_type": "code",
   "execution_count": 74,
   "metadata": {},
   "outputs": [],
   "source": [
    "X=cholesky(M)"
   ]
  },
  {
   "cell_type": "code",
   "execution_count": 75,
   "metadata": {},
   "outputs": [],
   "source": [
    "def uh(x):\n",
    "    suma=0\n",
    "    for i in range(1,n):\n",
    "        suma=suma+X[i-1]*phi(x,i)\n",
    "    return suma"
   ]
  },
  {
   "cell_type": "code",
   "execution_count": 73,
   "metadata": {},
   "outputs": [
    {
     "data": {
      "text/plain": [
       "[<matplotlib.lines.Line2D at 0x2cbae0ba550>]"
      ]
     },
     "execution_count": 73,
     "metadata": {},
     "output_type": "execute_result"
    },
    {
     "data": {
      "image/png": "[encoded data removed]",
      "text/plain": [
       "<Figure size 432x288 with 1 Axes>"
      ]
     },
     "metadata": {
      "needs_background": "light"
     },
     "output_type": "display_data"
    }
   ],
   "source": [
    "x = np.linspace(0, 1, num=1000)\n",
    "plt.plot(x,[uh(j) for j in x])"
   ]
  },
  {
   "cell_type": "code",
   "execution_count": null,
   "metadata": {},
   "outputs": [],
   "source": []
  }
 ],
 "metadata": {
  "kernelspec": {
   "display_name": "Python 3",
   "language": "python",
   "name": "python3"
  },
  "language_info": {
   "codemirror_mode": {
    "name": "ipython",
    "version": 3
   },
   "file_extension": ".py",
   "mimetype": "text/x-python",
   "name": "python",
   "nbconvert_exporter": "python",
   "pygments_lexer": "ipython3",
   "version": "3.8.3"
  }
 },
 "nbformat": 4,
 "nbformat_minor": 4
}
